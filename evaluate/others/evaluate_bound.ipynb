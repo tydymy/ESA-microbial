{
 "cells": [
  {
   "cell_type": "code",
   "execution_count": 27,
   "metadata": {},
   "outputs": [],
   "source": [
    "import pickle\n",
    "from Levenshtein import distance as levenshtein_distance\n",
    "\n",
    "obj_file = open(\"/home/pholur/XXXX-2/evaluate/test_cache/logs/read_match.pickle\", \"rb\")\n",
    "vals = pickle.load(obj_file)"
   ]
  },
  {
   "cell_type": "code",
   "execution_count": 28,
   "metadata": {},
   "outputs": [
    {
     "name": "stdout",
     "output_type": "stream",
     "text": [
      "Number of times the read matches the reference exactly:  0.9389755902360944\n",
      "Avg. edit distance of the reference with respect to errored reads:  1.019672131147541\n",
      "Performance on read-reference perfect match:  0.932878755593437\n",
      "Performance on imperfect read-reference match:  0.9081967213114754\n"
     ]
    }
   ],
   "source": [
    "total_bools = 0.0\n",
    "counter = 0\n",
    "edit_distance_total = 0\n",
    "corrects_perfect = 0\n",
    "corrects_imperfect = 0\n",
    "\n",
    "for read, outputs in vals.items():\n",
    "    # print(read)\n",
    "    # print()\n",
    "    # print(outputs[0].upper())\n",
    "    # print()\n",
    "    flag = read == outputs[0].upper()\n",
    "    if flag:\n",
    "        total_bools += 1\n",
    "        corrects_perfect += int(outputs[2])\n",
    "    else:\n",
    "        edit_distance = levenshtein_distance(read, outputs[0].upper())\n",
    "        edit_distance_total += edit_distance\n",
    "        corrects_imperfect += int(outputs[2])\n",
    "    counter += 1\n",
    "    # print()\n",
    "    # print(outputs[1])\n",
    "    # break\n",
    "print(\"Number of times the read matches the reference exactly: \", (total_bools / counter))\n",
    "print(\"Avg. edit distance of the reference with respect to errored reads: \", edit_distance_total / (counter - total_bools))\n",
    "print(\"Performance on read-reference perfect match: \", corrects_perfect / total_bools)\n",
    "print(\"Performance on imperfect read-reference match: \", corrects_imperfect / (counter - total_bools))"
   ]
  },
  {
   "cell_type": "code",
   "execution_count": null,
   "metadata": {},
   "outputs": [],
   "source": []
  }
 ],
 "metadata": {
  "kernelspec": {
   "display_name": "Python 3",
   "language": "python",
   "name": "python3"
  },
  "language_info": {
   "codemirror_mode": {
    "name": "ipython",
    "version": 3
   },
   "file_extension": ".py",
   "mimetype": "text/x-python",
   "name": "python",
   "nbconvert_exporter": "python",
   "pygments_lexer": "ipython3",
   "version": "3.11.3"
  },
  "orig_nbformat": 4
 },
 "nbformat": 4,
 "nbformat_minor": 2
}
